{
  "nbformat": 4,
  "nbformat_minor": 0,
  "metadata": {
    "colab": {
      "name": "Copy of Class 4.1 (2021-02-01).ipynb",
      "provenance": [],
      "collapsed_sections": [
        "oh2z9CPwuOFR"
      ],
      "toc_visible": true,
      "include_colab_link": true
    },
    "kernelspec": {
      "display_name": "Python 3",
      "name": "python3"
    }
  },
  "cells": [
    {
      "cell_type": "markdown",
      "metadata": {
        "id": "view-in-github",
        "colab_type": "text"
      },
      "source": [
        "<a href=\"https://colab.research.google.com/github/youngmoo/ECES-434/blob/main/Class%204.1%20(2021-02-01).ipynb\" target=\"_parent\"><img src=\"https://colab.research.google.com/assets/colab-badge.svg\" alt=\"Open In Colab\"/></a>"
      ]
    },
    {
      "cell_type": "markdown",
      "metadata": {
        "id": "qHxN8R_ItyXz"
      },
      "source": [
        "# **ECES-434: Class 4.1 (2021-02-01)**\n",
        "Week 4: Welcome to February!\n",
        "\n",
        "As always, start by importing the \"usual\" modules we'll be using..."
      ]
    },
    {
      "cell_type": "code",
      "metadata": {
        "id": "eDaoDgqCs1mp"
      },
      "source": [
        "import numpy as np                      # NumPy, abbreviated as np\n",
        "import matplotlib.pyplot as plt         # MatplotLib PyPlot module, abbreviated as plt\n",
        "from matplotlib import animation, rc    # MatplotLib animation module\n",
        "%matplotlib inline\n",
        "from scipy import signal                # SciPy's signal module, for DSP functions\n",
        "\n",
        "import IPython.display as ipd           # Interactive Python display module, for playing soundfiles\n",
        "from IPython.display import HTML        # For displaying animations\n",
        "rc('animation', html='jshtml')          # Provides animation controls\n",
        "\n",
        "ClassPath = '/content/drive/My Drive/ECES-434 Sessions/Class 4-1/'"
      ],
      "execution_count": null,
      "outputs": []
    },
    {
      "cell_type": "code",
      "metadata": {
        "id": "QUiMfqMhOWCI"
      },
      "source": [
        "# CHANGE THIS to your Drexel username!!\n",
        "username = 'anonymous'"
      ],
      "execution_count": null,
      "outputs": []
    },
    {
      "cell_type": "code",
      "metadata": {
        "id": "7f-OzFc_mN4w"
      },
      "source": [
        "from google.colab import drive\n",
        "drive.mount('/content/drive')"
      ],
      "execution_count": null,
      "outputs": []
    },
    {
      "cell_type": "markdown",
      "metadata": {
        "id": "70YbUklCYuue"
      },
      "source": [
        "## Custom plotting functions\n",
        "Because we're going to be plotting a lot..."
      ]
    },
    {
      "cell_type": "code",
      "metadata": {
        "id": "mGnf6L4cq-UI"
      },
      "source": [
        "def plotSpectrogram(sig, fs, win='hann', nseg=512, olap=256, fft_len=512):\n",
        "  f1, t1, Sxx = signal.spectrogram(sig, fs, window=win, nperseg=nseg, noverlap=olap, nfft=fft_len)\n",
        "\n",
        "  fig = plt.figure(figsize=(16,6))\n",
        "\n",
        "  plt.pcolormesh(t1, f1, 20*np.log10(np.abs(Sxx)))\n",
        "  plt.ylabel('Frequency (Hz)')\n",
        "  plt.xlabel('Time (sec)')\n",
        "  return plt"
      ],
      "execution_count": null,
      "outputs": []
    },
    {
      "cell_type": "code",
      "metadata": {
        "id": "f8v2wTLmIlZd"
      },
      "source": [
        "def myPlot(sig, fs=44100):\n"
      ],
      "execution_count": null,
      "outputs": []
    },
    {
      "cell_type": "code",
      "metadata": {
        "id": "xTksRiMEIm3x"
      },
      "source": [
        "def myPlotFFT(sig, n_fft=0, x_lim=22050, fs=44100):"
      ],
      "execution_count": null,
      "outputs": []
    },
    {
      "cell_type": "markdown",
      "metadata": {
        "id": "lsmJBHh3zweg"
      },
      "source": [
        "# Smoothing = Interpolation"
      ]
    },
    {
      "cell_type": "markdown",
      "metadata": {
        "id": "e7-jlroJMv4g"
      },
      "source": [
        "## Load sound files"
      ]
    },
    {
      "cell_type": "code",
      "metadata": {
        "id": "ixLydDz6Nb89"
      },
      "source": [
        "# New module and function for reading / writing sound files\n",
        "import soundfile as sf                  # New module for reading and writing soundfiles\n",
        "\n",
        "p11, fs11 = sf.read(ClassPath + 'sounds/ThePolice-11kHz.wav')\n",
        "ipd.Audio(p11,rate=fs11)"
      ],
      "execution_count": null,
      "outputs": []
    },
    {
      "cell_type": "code",
      "metadata": {
        "id": "WsyA1Et0OWSm"
      },
      "source": [
        "p44s, fs44 = sf.read(ClassPath + 'sounds/ThePolice-44kHz-stereo.wav')\n",
        "ipd.Audio(p44,rate=fs44s)"
      ],
      "execution_count": null,
      "outputs": []
    },
    {
      "cell_type": "code",
      "metadata": {
        "id": "ucmRXa1uPlMa"
      },
      "source": [
        "p44 = np.mean(p44s, axis=1)\n",
        "plt.plot(p_mono)\n",
        "ipd.Audio(p_mono,rate=fs44)"
      ],
      "execution_count": null,
      "outputs": []
    },
    {
      "cell_type": "markdown",
      "metadata": {
        "id": "rll2YfJ9vTta"
      },
      "source": [
        "# (Almost) arbitrary sample rate conversation\n",
        "How do we change sampling rates by a rational number (a ratio of integers)"
      ]
    },
    {
      "cell_type": "markdown",
      "metadata": {
        "id": "pu-6PMyEvYR8"
      },
      "source": [
        "## Upsample by a factor"
      ]
    },
    {
      "cell_type": "code",
      "metadata": {
        "id": "PihsUqm9vi2f"
      },
      "source": [
        "L = 4\n",
        "p_up4 = np.zeros( len(p11)*L - (L-1) )\n",
        "p_up4[::L] = p11                # Place our 11 kHz wave samples every 4th sample\n",
        "\n",
        "fig=plt.figure(figsize=(16,4))\n",
        "plt.plot(p_up4[:900])\n",
        "ipd.Audio(p_up4,rate=fs44)"
      ],
      "execution_count": null,
      "outputs": []
    },
    {
      "cell_type": "code",
      "metadata": {
        "id": "pw3IFsgVIsVe"
      },
      "source": [
        "myPlotFFT(p_up4[:2048])"
      ],
      "execution_count": null,
      "outputs": []
    },
    {
      "cell_type": "code",
      "metadata": {
        "id": "ix74BSqvJWyj"
      },
      "source": [
        "L = 8\n",
        "p_up8 = np.zeros( len(p11)*L - (L-1) )\n",
        "p_up8[::L] = p11                # Place our 11 kHz wave samples every 4th sample\n",
        "\n",
        "plotSpectrogram(p_up8,fs11*8)"
      ],
      "execution_count": null,
      "outputs": []
    },
    {
      "cell_type": "code",
      "metadata": {
        "id": "klRTqB4UJu4K"
      },
      "source": [
        "myPlotFFT(p_up8[:4096], x_lim=44100, fs=fs44*2)"
      ],
      "execution_count": null,
      "outputs": []
    },
    {
      "cell_type": "code",
      "metadata": {
        "id": "eiUKT7QVKesZ"
      },
      "source": [
        "p_u8_d7 = p_up8[::7]\n",
        "print(11025 * 8 /7)"
      ],
      "execution_count": null,
      "outputs": []
    },
    {
      "cell_type": "code",
      "metadata": {
        "id": "zMPj1aNQLCtT"
      },
      "source": [
        "myPlotFFT(p_u8_d7[:4096], fs=fs11*8/7, x_lim=6300)\n",
        "ipd.Audio(p_u8_d7,rate = 12600)"
      ],
      "execution_count": null,
      "outputs": []
    },
    {
      "cell_type": "code",
      "metadata": {
        "id": "6cAWmg76Ldig"
      },
      "source": [
        "myPlot(p_up8[:1024])"
      ],
      "execution_count": null,
      "outputs": []
    },
    {
      "cell_type": "code",
      "metadata": {
        "id": "Yu2UkhASHT1V"
      },
      "source": [
        "plotSpectrogram(p_up4, fs44)"
      ],
      "execution_count": null,
      "outputs": []
    },
    {
      "cell_type": "markdown",
      "metadata": {
        "id": "iwMensFCVYXQ"
      },
      "source": [
        "##Moving average"
      ]
    },
    {
      "cell_type": "code",
      "metadata": {
        "id": "lnJxebr-rcBL"
      },
      "source": [
        "L = 17  # Number of samples to average\n",
        "\n",
        "p11a = np.zeros(len(p11))             # Create an output array of zeros\n",
        "\n",
        "for n in range(len(p11)-L):\n",
        "  p11a[n] = np.sum(p11[n:n+L]) / L   # Compute moving average of L samples"
      ],
      "execution_count": null,
      "outputs": []
    },
    {
      "cell_type": "code",
      "metadata": {
        "id": "Ms2tLMesQc1N"
      },
      "source": [
        "fig = plt.figure(figsize=(12,4))\n",
        "plt.plot(p11a[:500])\n",
        "ipd.Audio(p11a,rate=11025)"
      ],
      "execution_count": null,
      "outputs": []
    },
    {
      "cell_type": "code",
      "metadata": {
        "id": "lfBHvaB4tB0I"
      },
      "source": [
        "plt6 = plotSpectrogram(yy11_44e, fs44)"
      ],
      "execution_count": null,
      "outputs": []
    },
    {
      "cell_type": "code",
      "metadata": {
        "id": "u8QRamWJW8zo"
      },
      "source": [
        "fig, line = setup()\n",
        "anim = animation.FuncAnimation(fig, animate, init_func=init, frames=120, fargs=(yy11_44d,), interval=1000/30, blit=True)\n",
        "anim"
      ],
      "execution_count": null,
      "outputs": []
    },
    {
      "cell_type": "markdown",
      "metadata": {
        "id": "_c21sjDYQ-SE"
      },
      "source": [
        "### What does the moving average do to frequency?\n",
        "And what hapens if you change the number of samples you average?"
      ]
    },
    {
      "cell_type": "code",
      "metadata": {
        "id": "UigexFCWuVP5"
      },
      "source": [
        "mv_avg = np.append(np.ones(L), np.zeros(512-L))\n",
        "MA = np.fft.fft(mv_avg)\n",
        "\n",
        "fig = plt.figure(figsize=(16,4))\n",
        "f = np.arange(512) * fs / 512\n",
        "plt.plot(f,20*np.log10(np.abs(MA)))\n",
        "plt.xlim(0,20000)"
      ],
      "execution_count": null,
      "outputs": []
    },
    {
      "cell_type": "markdown",
      "metadata": {
        "id": "pgI2R_AUTKfJ"
      },
      "source": [
        "##*Running*, weighted average of all past samples"
      ]
    },
    {
      "cell_type": "code",
      "metadata": {
        "id": "O6JVhZUyTSZ0"
      },
      "source": [
        "x = yy11_44a # Start with our sample-and-hold signal\n",
        "y = np.zeros(len(x))\n",
        "\n",
        "run_sum = 0\n",
        "\n",
        "for n in range(500):\n",
        "  sum = 0\n",
        "  for m in range(n):\n",
        "    sum += 0.7**(n-m+1) * x[m]\n",
        "\n",
        "  y[n] = 0.3*x[n] + sum"
      ],
      "execution_count": null,
      "outputs": []
    },
    {
      "cell_type": "code",
      "metadata": {
        "id": "Dvj-rlWvV1fi"
      },
      "source": [
        "fig = plt.figure(figsize=(12,4))\n",
        "plt.plot(y[:500])"
      ],
      "execution_count": null,
      "outputs": []
    },
    {
      "cell_type": "code",
      "metadata": {
        "id": "XRofqMDvXmVn"
      },
      "source": [
        "y2 = np.zeros(len(x))\n",
        "y2[0] = x[0]\n",
        "\n",
        "for n in range(1,len(x)):\n",
        "  y2[n] = 0.3*x[n] + 0.8*y2[n-1]"
      ],
      "execution_count": null,
      "outputs": []
    },
    {
      "cell_type": "code",
      "metadata": {
        "id": "pkxB9p_1Yg80"
      },
      "source": [
        "fig = plt.figure(figsize=(12,4))\n",
        "plt.plot(y2[:500])\n",
        "ipd.Audio(y2,rate=fs44)"
      ],
      "execution_count": null,
      "outputs": []
    },
    {
      "cell_type": "code",
      "metadata": {
        "id": "MS7sJOzAaQu3"
      },
      "source": [
        "plotSpectrogram(y2,fs44)"
      ],
      "execution_count": null,
      "outputs": []
    },
    {
      "cell_type": "code",
      "metadata": {
        "id": "BJtwJYy0aYUu"
      },
      "source": [
        "y3 = np.zeros(len(x))\n",
        "y3[0] = x[0]\n",
        "y3[1] = x[1]\n",
        "\n",
        "for n in range(2,len(x)):\n",
        "  y3[n] = 0.3*x[n] + 0.8*y3[n-1] + 0.2*y3[n-2]"
      ],
      "execution_count": null,
      "outputs": []
    },
    {
      "cell_type": "code",
      "metadata": {
        "id": "XTWTngmyaj2r"
      },
      "source": [
        "fig = plt.figure(figsize=(12,4))\n",
        "plt.plot(y3[:500])\n",
        "ipd.Audio(y3,rate=fs44)"
      ],
      "execution_count": null,
      "outputs": []
    },
    {
      "cell_type": "code",
      "metadata": {
        "id": "RpxXxNlGa2VI"
      },
      "source": [
        "plotSpectrogram(y3,fs44)"
      ],
      "execution_count": null,
      "outputs": []
    },
    {
      "cell_type": "code",
      "metadata": {
        "id": "9V8Lnr33bCt9"
      },
      "source": [
        "fig, line = setup()\n",
        "anim = animation.FuncAnimation(fig, animate, init_func=init, frames=120, fargs=(y3,), interval=1000/30, blit=True)\n",
        "anim"
      ],
      "execution_count": null,
      "outputs": []
    },
    {
      "cell_type": "code",
      "metadata": {
        "id": "Zud-Yi4rbXx9"
      },
      "source": [
        "y4 = np.zeros(len(x))\n",
        "y4[0] = x[0]\n",
        "y4[1] = x[1]\n",
        "y4[2] = x[2]\n",
        "for n in range(3,len(x)):\n",
        "  y4[n] = 0.3*x[n] + 0.8*y4[n-1] + 0.3*y4[n-2] - 0.1*y4[n-3]"
      ],
      "execution_count": null,
      "outputs": []
    },
    {
      "cell_type": "code",
      "metadata": {
        "id": "eiNjtvsqeCLL"
      },
      "source": [
        "fig = plt.figure(figsize=(12,4))\n",
        "plt.plot(y4[:500])\n",
        "ipd.Audio(y4,rate=fs44)"
      ],
      "execution_count": null,
      "outputs": []
    },
    {
      "cell_type": "code",
      "metadata": {
        "id": "RI9iQs9YdOxA"
      },
      "source": [
        "plotSpectrogram(y4,fs44)"
      ],
      "execution_count": null,
      "outputs": []
    },
    {
      "cell_type": "code",
      "metadata": {
        "id": "-uLX0xLBeOa1"
      },
      "source": [
        "fig, line = setup()\n",
        "anim = animation.FuncAnimation(fig, animate, init_func=init, frames=120, fargs=(y3,), interval=1000/30, blit=True)\n",
        "anim"
      ],
      "execution_count": null,
      "outputs": []
    }
  ]
}