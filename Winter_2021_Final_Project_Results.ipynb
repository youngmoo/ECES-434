{
  "nbformat": 4,
  "nbformat_minor": 0,
  "metadata": {
    "colab": {
      "name": "ECES-434 Final Project Results",
      "provenance": [],
      "collapsed_sections": [],
      "toc_visible": true,
      "include_colab_link": true
    },
    "kernelspec": {
      "name": "python3",
      "display_name": "Python 3"
    }
  },
  "cells": [
    {
      "cell_type": "markdown",
      "metadata": {
        "id": "view-in-github",
        "colab_type": "text"
      },
      "source": [
        "<a href=\"https://colab.research.google.com/github/youngmoo/ECES-434/blob/main/Winter_2021_Final_Project_Results.ipynb\" target=\"_parent\"><img src=\"https://colab.research.google.com/assets/colab-badge.svg\" alt=\"Open In Colab\"/></a>"
      ]
    },
    {
      "cell_type": "markdown",
      "metadata": {
        "id": "u64OQvFR6V9O"
      },
      "source": [
        "# **ECES-434 Winter 2021 Final Project Results**\n",
        "Audio Codec Project Competition"
      ]
    },
    {
      "cell_type": "markdown",
      "metadata": {
        "id": "a-ffZNIr6j3Y"
      },
      "source": [
        "# **Final Project Grading**\n",
        "\n",
        "*   25 points for code / implementation\n",
        "*   15 points for project writeup\n",
        "  * Abstract (short summary of your project)\n",
        "  * Help us understand your implementation\n",
        "      * Encoder: how does it work and what does it output?\n",
        "      * Decoder: how does it turn the coded data back into sound?\n",
        "  * Reflection\n",
        "      * How did you perform in the various categories, compared to the overall class?\n",
        "      * What could you do better / differently?\n",
        "  * Optional Extra Credit\n",
        "      * Submit an improved implementation\n",
        "\n",
        "  \n",
        "\n"
      ]
    },
    {
      "cell_type": "markdown",
      "metadata": {
        "id": "oy4F3UgO77pF"
      },
      "source": [
        "# **Project writeup due dates**\n",
        "\n",
        "* Normal submission\n",
        "  * Friday, March 19 (11:59pm)\n",
        "* Early grading (for P-NP deadline):\n",
        "  * Wednesday, March 17 (11:59pm)"
      ]
    },
    {
      "cell_type": "markdown",
      "metadata": {
        "id": "ybMPan3sZDDh"
      },
      "source": [
        "### Mount drive, import libraries"
      ]
    },
    {
      "cell_type": "code",
      "metadata": {
        "id": "FZeNUiPVWSrU"
      },
      "source": [
        "from google.colab import drive\n",
        "drive.mount('/content/drive')"
      ],
      "execution_count": null,
      "outputs": []
    },
    {
      "cell_type": "code",
      "metadata": {
        "id": "IT9xhWY3WgFX"
      },
      "source": [
        "import numpy as np\n",
        "import pandas as pd\n",
        "import matplotlib.pyplot as plt\n",
        "import scipy.stats as stats\n",
        "import soundfile as sf\n",
        "import IPython.display as ipd\n",
        "\n",
        "from matplotlib import rc\n",
        "rc('figure', figsize=(16,4))"
      ],
      "execution_count": null,
      "outputs": []
    },
    {
      "cell_type": "code",
      "metadata": {
        "id": "N4hhrP_jWs0d"
      },
      "source": [
        "path = \"/content/drive/MyDrive/ECES-434 Sessions/Final project results/\"\n",
        "input_file = \"histogram_data.csv\""
      ],
      "execution_count": null,
      "outputs": []
    },
    {
      "cell_type": "markdown",
      "metadata": {
        "id": "-2yhd9SWAtz-"
      },
      "source": [
        "# **Category Histograms**"
      ]
    },
    {
      "cell_type": "markdown",
      "metadata": {
        "id": "8iBMo0w1ZJCb"
      },
      "source": [
        "### Load spreadsheet data as pd.DataFrame"
      ]
    },
    {
      "cell_type": "code",
      "metadata": {
        "id": "AlOvA2h5YGqf"
      },
      "source": [
        "df = pd.read_csv(path + input_file)"
      ],
      "execution_count": null,
      "outputs": []
    },
    {
      "cell_type": "markdown",
      "metadata": {
        "id": "-pJ-y_SBfDFD"
      },
      "source": [
        "### Plotting functions"
      ]
    },
    {
      "cell_type": "code",
      "metadata": {
        "id": "Nx5dr8wsfV-3"
      },
      "source": [
        "def plot_histogram(data, bins=12, title=\"Histogram\"):\n",
        "  # plt.figure(figsize=(10,5))\n",
        "  plt.hist(data, bins=bins, density=False, color=\"c\", alpha=1.0)\n",
        "  plt.title(title, fontdict = {'family':'normal', 'weight':'bold', 'size': 22});"
      ],
      "execution_count": null,
      "outputs": []
    },
    {
      "cell_type": "code",
      "metadata": {
        "id": "LgwvcdNrjyDm"
      },
      "source": [
        "def plot_gaussian(data):\n",
        "  mean = np.mean(data)\n",
        "  std = np.std(data)\n",
        "  x_axis = np.linspace(mean - 3*std, p_mean + 3*std, 100)\n",
        "  gauss =  stats.norm.pdf(x_axis, mean, std)\n",
        "  plt.plot(x, gauss, color=\"k\", alpha=0.4)"
      ],
      "execution_count": null,
      "outputs": []
    },
    {
      "cell_type": "markdown",
      "metadata": {
        "id": "BJ0xn--gZQVO"
      },
      "source": [
        "## Perception histogram"
      ]
    },
    {
      "cell_type": "code",
      "metadata": {
        "id": "SOs1bRncYSm-"
      },
      "source": [
        "p = df[\"Avg Perception\"]\n",
        "plot_histogram(p, title = \"Perception\")"
      ],
      "execution_count": null,
      "outputs": []
    },
    {
      "cell_type": "markdown",
      "metadata": {
        "id": "QCq6LaPWavkV"
      },
      "source": [
        "## Compression ratio histogram"
      ]
    },
    {
      "cell_type": "code",
      "metadata": {
        "id": "ZaSe9jBCavRl"
      },
      "source": [
        "cr = df[\"Avg Compression Ratio\"]\n",
        "plot_histogram(cr, title=\"Compression Ratio\")"
      ],
      "execution_count": null,
      "outputs": []
    },
    {
      "cell_type": "markdown",
      "metadata": {
        "id": "Ld-x8A-2bI_q"
      },
      "source": [
        "## SNR histogram"
      ]
    },
    {
      "cell_type": "code",
      "metadata": {
        "id": "laxBoLmjaYyA"
      },
      "source": [
        "snr = df[\"Avg Signal to Noise Ratio\"]\n",
        "plot_histogram(snr, title=\"Signal to Noise Ratio (dB)\")"
      ],
      "execution_count": null,
      "outputs": []
    },
    {
      "cell_type": "markdown",
      "metadata": {
        "id": "oe92YNKFbp0q"
      },
      "source": [
        "## Runtime histogram"
      ]
    },
    {
      "cell_type": "code",
      "metadata": {
        "id": "Jwy7TfpmbTLe"
      },
      "source": [
        "rt = df[\"Avg Runtime\"]\n",
        "plot_histogram(rt, title=\"Runtime (seconds)\")"
      ],
      "execution_count": null,
      "outputs": []
    },
    {
      "cell_type": "markdown",
      "metadata": {
        "id": "xbCYD8aLU3yn"
      },
      "source": [
        "## Subplots of all histograms"
      ]
    },
    {
      "cell_type": "code",
      "metadata": {
        "id": "BKj6ekb9T7ul"
      },
      "source": [
        "plt.figure(figsize=(20,12))\n",
        "\n",
        "plt.subplot(221)\n",
        "plot_histogram(p, title = \"Perception Survey Score\")\n",
        "\n",
        "plt.subplot(222)\n",
        "plot_histogram(cr, title=\"Compression Ratio\")\n",
        "\n",
        "plt.subplot(223)\n",
        "plot_histogram(snr, title = \"Signal to Noise Ratio\")\n",
        "\n",
        "plt.subplot(224)\n",
        "plot_histogram(rt, title = \"Runtime (Seconds)\")"
      ],
      "execution_count": null,
      "outputs": []
    },
    {
      "cell_type": "markdown",
      "metadata": {
        "id": "LcNPlVhnBj-L"
      },
      "source": [
        "# **Winners**"
      ]
    },
    {
      "cell_type": "markdown",
      "metadata": {
        "id": "DTHWAGsJB1WE"
      },
      "source": [
        "## Fastest Runtime\n",
        "* 0.251 seconds"
      ]
    },
    {
      "cell_type": "code",
      "metadata": {
        "id": "bw24iL2zWSSA"
      },
      "source": [
        "runtime, fs = sf.read(path + 'Runtime-1.wav')\n",
        "ipd.Audio(runtime,rate=fs)"
      ],
      "execution_count": null,
      "outputs": []
    },
    {
      "cell_type": "markdown",
      "metadata": {
        "id": "ESfghAsbDkYI"
      },
      "source": [
        "## Best Signal to Noise Ratio\n",
        "With compression\n",
        "* 12.25 dB"
      ]
    },
    {
      "cell_type": "code",
      "metadata": {
        "id": "aDf0SbvKDqkX"
      },
      "source": [
        "snr, fs = sf.read(path + 'SNR-1.wav')\n",
        "ipd.Audio(snr,rate=fs)"
      ],
      "execution_count": null,
      "outputs": []
    },
    {
      "cell_type": "markdown",
      "metadata": {
        "id": "Wg-o9W_oDwCQ"
      },
      "source": [
        "## Highest Compression Ratios\n",
        "With recognizable audio\n",
        "* 6.39:1\n",
        "* 8.1:1"
      ]
    },
    {
      "cell_type": "code",
      "metadata": {
        "id": "EEmz383wDvHS"
      },
      "source": [
        "compression2, fs = sf.read(path + 'Compression-2.wav')\n",
        "ipd.Audio(compression2,rate=fs)"
      ],
      "execution_count": null,
      "outputs": []
    },
    {
      "cell_type": "code",
      "metadata": {
        "id": "qTGGrJMGD7Cj"
      },
      "source": [
        "compression1, fs = sf.read(path + 'Compression-1.wav')\n",
        "ipd.Audio(compression1,rate=fs)"
      ],
      "execution_count": null,
      "outputs": []
    },
    {
      "cell_type": "markdown",
      "metadata": {
        "id": "C6VsLizmED4a"
      },
      "source": [
        "# Highest Perception Scores\n",
        "With some compression\n",
        "* 6.8\n",
        "* 7.75\n"
      ]
    },
    {
      "cell_type": "code",
      "metadata": {
        "id": "qrY31VRTEKU-"
      },
      "source": [
        "perception2, fs = sf.read(path + 'Perception-2.wav')\n",
        "ipd.Audio(perception2,rate=fs)"
      ],
      "execution_count": null,
      "outputs": []
    },
    {
      "cell_type": "code",
      "metadata": {
        "id": "tI_H5lgFENaA"
      },
      "source": [
        "perception1, fs = sf.read(path + 'Perception-1.wav')\n",
        "ipd.Audio(perception1,rate=fs)"
      ],
      "execution_count": null,
      "outputs": []
    },
    {
      "cell_type": "markdown",
      "metadata": {
        "id": "PLPoLVgMEllF"
      },
      "source": [
        "# Best Overall Codecs: Winners\n",
        "Third place\n",
        "* Runtime: 7\n",
        "* SNR: 19\n",
        "* Compression: 5\n",
        "* Perception: 19\n"
      ]
    },
    {
      "cell_type": "code",
      "metadata": {
        "id": "r00N2tI6FYNl"
      },
      "source": [
        "overall3, fs = sf.read(path + 'Overall-3.wav')\n",
        "ipd.Audio(overall3,rate=fs)"
      ],
      "execution_count": null,
      "outputs": []
    },
    {
      "cell_type": "markdown",
      "metadata": {
        "id": "BErzMsfQE-vS"
      },
      "source": [
        "Second place\n",
        "* Runtime: 12\n",
        "* SNR: 11\n",
        "* Compression: 10\n",
        "* Perception: 5"
      ]
    },
    {
      "cell_type": "code",
      "metadata": {
        "id": "ptUQ5iJFFG77"
      },
      "source": [
        "overall2, fs = sf.read(path + 'Overall-2.wav')\n",
        "ipd.Audio(overall2,rate=fs)"
      ],
      "execution_count": null,
      "outputs": []
    },
    {
      "cell_type": "markdown",
      "metadata": {
        "id": "ujYAUHW2FHoz"
      },
      "source": [
        "First place\n",
        "* Runtime: 18\n",
        "* SNR: 6\n",
        "* Compression: 7\n",
        "* Perception: 11"
      ]
    },
    {
      "cell_type": "code",
      "metadata": {
        "id": "jS5XD1NGFNgC"
      },
      "source": [
        "overall1, fs = sf.read(path + 'Overall-1.wav')\n",
        "ipd.Audio(overall1,rate=fs)"
      ],
      "execution_count": null,
      "outputs": []
    }
  ]
}