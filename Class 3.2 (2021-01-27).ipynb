{
  "nbformat": 4,
  "nbformat_minor": 0,
  "metadata": {
    "colab": {
      "name": "Copy of Class 3.2 (2021-01-27).ipynb",
      "provenance": [],
      "collapsed_sections": [],
      "toc_visible": true,
      "include_colab_link": true
    },
    "kernelspec": {
      "display_name": "Python 3",
      "name": "python3"
    }
  },
  "cells": [
    {
      "cell_type": "markdown",
      "metadata": {
        "id": "view-in-github",
        "colab_type": "text"
      },
      "source": [
        "<a href=\"https://colab.research.google.com/github/youngmoo/ECES-434/blob/main/Class%203.2%20(2021-01-27).ipynb\" target=\"_parent\"><img src=\"https://colab.research.google.com/assets/colab-badge.svg\" alt=\"Open In Colab\"/></a>"
      ]
    },
    {
      "cell_type": "markdown",
      "metadata": {
        "id": "qHxN8R_ItyXz"
      },
      "source": [
        "# **ECES-434: Class 3.2 (2021-01-27)**\n",
        "Continuing Week 3 of Applied DSP!\n",
        "\n",
        "As always, start by importing the \"usual\" modules we'll be using..."
      ]
    },
    {
      "cell_type": "code",
      "metadata": {
        "id": "eDaoDgqCs1mp"
      },
      "source": [
        "import numpy as np\n",
        "import matplotlib.pyplot as plt\n",
        "from matplotlib import animation, rc\n",
        "import IPython.display as ipd\n",
        "%matplotlib inline\n",
        "import librosa\n",
        "from scipy import signal\n",
        "\n",
        "from IPython.display import HTML\n",
        "\n",
        "# equivalent to rcParams['animation.html'] = 'html5'\n",
        "rc('animation', html='html5')\n",
        "\n",
        "ClassPath = '/content/drive/My Drive/ECES-434 Sessions/Class 3-2/'"
      ],
      "execution_count": null,
      "outputs": []
    },
    {
      "cell_type": "code",
      "metadata": {
        "id": "QUiMfqMhOWCI"
      },
      "source": [
        "# CHANGE THIS to your Drexel username!!\n",
        "username = 'anonymous'"
      ],
      "execution_count": null,
      "outputs": []
    },
    {
      "cell_type": "code",
      "metadata": {
        "id": "7f-OzFc_mN4w"
      },
      "source": [
        "from google.colab import drive\n",
        "drive.mount('/content/drive')"
      ],
      "execution_count": null,
      "outputs": []
    },
    {
      "cell_type": "markdown",
      "metadata": {
        "id": "cWj0eW-qEjxf"
      },
      "source": [
        "# Load 44.1 kHz audio clip\n",
        "Yo Yo Ma: Bach Cello Suite No. 1"
      ]
    },
    {
      "cell_type": "code",
      "metadata": {
        "id": "xMUmfBZ0-9XL"
      },
      "source": [
        "yy44,fs44 = librosa.load(ClassPath + 'YoYoMa-44kHz.wav',sr=None)\n",
        "ipd.Audio(yy44,rate=fs44)"
      ],
      "execution_count": null,
      "outputs": []
    },
    {
      "cell_type": "code",
      "metadata": {
        "id": "AvhFkx6JZL9T"
      },
      "source": [
        "t = np.arange(len(yy44)) / fs44\n",
        "plt.plot(t,yy44)\n",
        "fig = plt.figure(12,4)\n",
        "plt.xlabel('Time(sec)')"
      ],
      "execution_count": null,
      "outputs": []
    },
    {
      "cell_type": "code",
      "metadata": {
        "id": "CgIwbrdHZuDT"
      },
      "source": [
        "f1, t1, Sxx = signal.spectrogram(yy44, fs44, window='hann', nperseg=2048, noverlap=1024, nfft=4096)\n",
        "\n",
        "fig = plt.figure(figsize=(16,6))\n",
        "\n",
        "plt.pcolormesh(t1, f1, 20*np.log10(np.abs(Sxx)))\n",
        "plt.ylabel('Frequency (Hz)')\n",
        "plt.xlabel('Time (sec)')\n",
        "\n",
        "plt.xlim(0,5)\n",
        "#plt.ylim(0,2000)\n",
        "\n",
        "plt.show()"
      ],
      "execution_count": null,
      "outputs": []
    },
    {
      "cell_type": "markdown",
      "metadata": {
        "id": "69W9BiAtNvEg"
      },
      "source": [
        "## Load low sampling rate (11025 Hz) version of audio clip"
      ]
    },
    {
      "cell_type": "code",
      "metadata": {
        "id": "iqpNiFORNuNI"
      },
      "source": [
        "yy11,fs11 = librosa.load(ClassPath + 'YoYoMa-11kHz.wav',sr=None)\n",
        "ipd.Audio(yy11,rate=fs11)"
      ],
      "execution_count": null,
      "outputs": []
    },
    {
      "cell_type": "markdown",
      "metadata": {
        "id": "70YbUklCYuue"
      },
      "source": [
        "## Let's create a custom plotSpectrogram function\n",
        "Because we're going to be taking a lot of spectrograms..."
      ]
    },
    {
      "cell_type": "code",
      "metadata": {
        "id": "mGnf6L4cq-UI"
      },
      "source": [
        "def plotSpectrogram(sig, fs, win='hann', nseg=512, olap=256, fft_len=512):\n",
        "  f1, t1, Sxx = signal.spectrogram(sig, fs, window=win, nperseg=nseg, noverlap=olap, nfft=fft_len)\n",
        "\n",
        "  fig = plt.figure(figsize=(16,6))\n",
        "\n",
        "  plt.pcolormesh(t1, f1, 20*np.log10(np.abs(Sxx)))\n",
        "  plt.ylabel('Frequency (Hz)')\n",
        "  plt.xlabel('Time (sec)')\n",
        "  return plt\n",
        "\n",
        "plt1 = plotSpectrogram(yy11, fs11)\n",
        "plt1.ylim(0,10000)\n",
        "plt1.show()"
      ],
      "execution_count": null,
      "outputs": []
    },
    {
      "cell_type": "markdown",
      "metadata": {
        "id": "7dMX-Z4j3Y3i"
      },
      "source": [
        "#Sample rate conversion: sample and hold\n"
      ]
    },
    {
      "cell_type": "code",
      "metadata": {
        "id": "es9cI-Pw0lHA"
      },
      "source": [
        "yy11_44a = np.repeat(yy11,4)\n",
        "ipd.Audio(yy11_44a,rate=44100)"
      ],
      "execution_count": null,
      "outputs": []
    },
    {
      "cell_type": "code",
      "metadata": {
        "id": "PPiqG5-j2gXN"
      },
      "source": [
        "plt.plot(yy11_44a[5000:5200])"
      ],
      "execution_count": null,
      "outputs": []
    },
    {
      "cell_type": "code",
      "metadata": {
        "id": "NqbqyWl1atun"
      },
      "source": [
        "plt2 = plotSpectrogram(yy11_44a, fs44)\n",
        "plt2.ylim(0,20000)\n",
        "plt2.show()"
      ],
      "execution_count": null,
      "outputs": []
    },
    {
      "cell_type": "markdown",
      "metadata": {
        "id": "Xoip0jFCT1T_"
      },
      "source": [
        "## Custom animation functions\n",
        "Again, because we'll be using these a lot..."
      ]
    },
    {
      "cell_type": "code",
      "metadata": {
        "colab": {
          "background_save": true
        },
        "id": "2sqHZVYwRaIZ"
      },
      "source": [
        "n_o = 0\n",
        "f_size = 2048\n",
        "n_hop = f_size / 2\n",
        "N_fft = 4096\n",
        "f = np.arange(N_fft) * fs44 / N_fft\n",
        "\n",
        "# First set up the figure, the axis, and the plot element we want to animate\n",
        "def setup(x_lim=(0,20000), y_lim=(-120,100)):\n",
        "  fig = plt.figure(figsize=(14,6))\n",
        "  ax = plt.axes(xlim=x_lim,ylim=y_lim)\n",
        "  plt.close()   # Don't output the final figure separately\n",
        "  line, = ax.plot([], [])\n",
        "  return fig, line\n",
        "\n",
        "# initialization function: plot the background of each frame\n",
        "def init():\n",
        "    #line, = ax.plot([], [])\n",
        "    line.set_data([], [])\n",
        "    return (line,)\n",
        "\n",
        "# animation function. This is called sequentially  \n",
        "def animate(i, sig):\n",
        "    n1 = int(n_o + n_hop*i)\n",
        "    n2 = int(n_o + n_hop*i + f_size)\n",
        "\n",
        "    x_i = sig[n1:n2]\n",
        "    X_i = np.fft.fft(x_i * np.hanning(len(x_i)), n=N_fft)\n",
        "    X_mag = 20*np.log(np.abs(X_i))\n",
        "\n",
        "    line.set_data(f, X_mag)\n",
        "    return (line,)  \n",
        "\n",
        "fig, line = setup()\n",
        "anim = animation.FuncAnimation(fig, animate, init_func=init, frames=120, fargs=(yy11_44a,), interval=1000/30, blit=True)\n",
        "anim"
      ],
      "execution_count": null,
      "outputs": []
    },
    {
      "cell_type": "markdown",
      "metadata": {
        "id": "lsmJBHh3zweg"
      },
      "source": [
        "#Interpolation = Smoothing"
      ]
    },
    {
      "cell_type": "markdown",
      "metadata": {
        "id": "GeZ4ZzO7po2t"
      },
      "source": [
        "##Upsampling by inserting zeros"
      ]
    },
    {
      "cell_type": "code",
      "metadata": {
        "id": "0BCjnYXPVXqV"
      },
      "source": [
        "L = 4\n",
        "yy11_44u = np.zeros( len(yy11)*L - (L-1) )\n",
        "yy11_44u[::4] = yy11                # Put our 11 kHz wave every 4th sample\n",
        "\n",
        "fig=plt.figure(figsize=(16,4))\n",
        "plt.plot(yy11_44u[:500])\n",
        "ipd.Audio(yy11_44u,rate=fs44)\n"
      ],
      "execution_count": null,
      "outputs": []
    },
    {
      "cell_type": "code",
      "metadata": {
        "id": "wbwPK7avpXoO"
      },
      "source": [
        "plt0 = plotSpectrogram(yy11_44u, fs44)\n",
        "plt0.show()"
      ],
      "execution_count": null,
      "outputs": []
    },
    {
      "cell_type": "code",
      "metadata": {
        "id": "pNvsJIMypjxf"
      },
      "source": [
        "fig, line = setup()\n",
        "anim = animation.FuncAnimation(fig, animate, init_func=init, frames=120, fargs=(yy11_44u,), interval=1000/30, blit=True)\n",
        "anim"
      ],
      "execution_count": null,
      "outputs": []
    },
    {
      "cell_type": "markdown",
      "metadata": {
        "id": "1-ZiR-6DR1pR"
      },
      "source": [
        "## Linear interpolation\n",
        "NumPy has an *interp* function... let's see what it does."
      ]
    },
    {
      "cell_type": "code",
      "metadata": {
        "id": "PrlCtv6yzvcv"
      },
      "source": [
        "t44 = np.arange(len(yy11)*L - (L-1)) / 44100\n",
        "t11 = np.arange(len(yy11)) / fs11"
      ],
      "execution_count": null,
      "outputs": []
    },
    {
      "cell_type": "code",
      "metadata": {
        "id": "Qz8P6bMd03zu"
      },
      "source": [
        "yy11_44b = np.interp(t44,t11,yy11)\n",
        "ipd.Audio(yy11_44b,rate=44100)"
      ],
      "execution_count": null,
      "outputs": []
    },
    {
      "cell_type": "code",
      "metadata": {
        "id": "OF__91rS2gdL"
      },
      "source": [
        "fig = plt.figure(figsize=(12,4))\n",
        "plt.plot(yy11_44b[:200])"
      ],
      "execution_count": null,
      "outputs": []
    },
    {
      "cell_type": "code",
      "metadata": {
        "id": "UhpsB5P-2rhk"
      },
      "source": [
        "plt2 = plotSpectrogram(yy11_44b, fs44)"
      ],
      "execution_count": null,
      "outputs": []
    },
    {
      "cell_type": "code",
      "metadata": {
        "id": "1I6H3PYB3Rj3"
      },
      "source": [
        "fig, line = setup()\n",
        "anim = animation.FuncAnimation(fig, animate, init_func=init, frames=120, fargs=(yy11_44b,), interval=1000/30, blit=True)\n",
        "anim"
      ],
      "execution_count": null,
      "outputs": []
    },
    {
      "cell_type": "markdown",
      "metadata": {
        "id": "mBlsPSp8RvC2"
      },
      "source": [
        "## Quadratic interpolation?\n",
        "We need another module, *interpolate* from  SciPy (Scientific Python)\n"
      ]
    },
    {
      "cell_type": "code",
      "metadata": {
        "id": "hl1WvRDI31ZD"
      },
      "source": [
        "from scipy import interpolate"
      ],
      "execution_count": null,
      "outputs": []
    },
    {
      "cell_type": "code",
      "metadata": {
        "id": "X9GPuX784kiY"
      },
      "source": [
        "# How to use interpolate?\n",
        "interpolate.interp1d()\n",
        "\n",
        "yy11_44c = \n",
        "ipd.Audio(yy11_44c,rate=44100)"
      ],
      "execution_count": null,
      "outputs": []
    },
    {
      "cell_type": "code",
      "metadata": {
        "id": "o0QIAxgzHR7U"
      },
      "source": [
        "fig = plt.figure(figsize=(12,4))\n",
        "plt.plot(yy11_44c[:1000])"
      ],
      "execution_count": null,
      "outputs": []
    },
    {
      "cell_type": "code",
      "metadata": {
        "id": "edGyi_avHZxk"
      },
      "source": [
        "plt4 = plotSpectrogram(yy11_44c, fs44)"
      ],
      "execution_count": null,
      "outputs": []
    },
    {
      "cell_type": "code",
      "metadata": {
        "id": "Sq8y8LJAHtwr"
      },
      "source": [
        "fig, line = setup()\n",
        "anim = animation.FuncAnimation(fig, animate, init_func=init, frames=120, fargs=(yy11_44c,), interval=1000/30, blit=True)\n",
        "anim"
      ],
      "execution_count": null,
      "outputs": []
    },
    {
      "cell_type": "markdown",
      "metadata": {
        "id": "Ev4CA0OoRpEz"
      },
      "source": [
        "## Cubic interpolation?"
      ]
    },
    {
      "cell_type": "code",
      "metadata": {
        "id": "sg3u9NlIRB2k"
      },
      "source": [
        "interpolate.interp1d()\n",
        "\n",
        "yy11_44d = \n",
        "\n",
        "fig = plt.figure(figsize=(12,4))\n",
        "plt.plot(yy11_44d[:1000])\n",
        "ipd.Audio(yy11_44d,rate=44100)"
      ],
      "execution_count": null,
      "outputs": []
    },
    {
      "cell_type": "code",
      "metadata": {
        "id": "mFJSYrC2Sy-x"
      },
      "source": [
        "plt5 = plotSpectrogram(yy11_44d,fs44)"
      ],
      "execution_count": null,
      "outputs": []
    },
    {
      "cell_type": "code",
      "metadata": {
        "id": "7-YQVNo0TUjX"
      },
      "source": [
        "fig, line = setup()\n",
        "anim = animation.FuncAnimation(fig, animate, init_func=init, frames=120, fargs=(yy11_44d,), interval=1000/30, blit=True)\n",
        "anim"
      ],
      "execution_count": null,
      "outputs": []
    },
    {
      "cell_type": "markdown",
      "metadata": {
        "id": "iwMensFCVYXQ"
      },
      "source": [
        "##Moving average"
      ]
    },
    {
      "cell_type": "code",
      "metadata": {
        "id": "lnJxebr-rcBL"
      },
      "source": [
        "L = 17  # Number of samples to average\n",
        "\n",
        "yy11_44e = np.zeros(len(yy11_44a))             # Create an output array of zeros\n",
        "\n",
        "for n in range(len(yy11_44u)-L):\n",
        "  yy11_44e[n] =                                # Compute moving average of L samples"
      ],
      "execution_count": null,
      "outputs": []
    },
    {
      "cell_type": "code",
      "metadata": {
        "id": "Ms2tLMesQc1N"
      },
      "source": [
        "fig = plt.figure(figsize=(12,4))\n",
        "plt.plot(yy11_44e[:500])\n",
        "ipd.Audio(yy11_44e,rate=44100)"
      ],
      "execution_count": null,
      "outputs": []
    },
    {
      "cell_type": "code",
      "metadata": {
        "id": "lfBHvaB4tB0I"
      },
      "source": [
        "plt6 = plotSpectrogram(yy11_44e, fs44)"
      ],
      "execution_count": null,
      "outputs": []
    },
    {
      "cell_type": "code",
      "metadata": {
        "id": "u8QRamWJW8zo"
      },
      "source": [
        "fig, line = setup()\n",
        "anim = animation.FuncAnimation(fig, animate, init_func=init, frames=120, fargs=(yy11_44d,), interval=1000/30, blit=True)\n",
        "anim"
      ],
      "execution_count": null,
      "outputs": []
    },
    {
      "cell_type": "markdown",
      "metadata": {
        "id": "_c21sjDYQ-SE"
      },
      "source": [
        "### What does the moving average do to frequency?\n",
        "And what hapens if you change the number of samples you average?"
      ]
    },
    {
      "cell_type": "code",
      "metadata": {
        "id": "UigexFCWuVP5"
      },
      "source": [
        "mv_avg = \n",
        "MA = \n",
        "\n",
        "fig = plt.figure(figsize=(16,4))\n",
        "f = np.arange(512) * fs / 512\n",
        "plt.plot(f,20*np.log10(np.abs(MA)))\n",
        "plt.xlim(0,20000)"
      ],
      "execution_count": null,
      "outputs": []
    },
    {
      "cell_type": "markdown",
      "metadata": {
        "id": "xrhUNO441FgM"
      },
      "source": [
        "## Moving, weighted average"
      ]
    },
    {
      "cell_type": "code",
      "metadata": {
        "id": "VBzfvzROxhaO"
      },
      "source": [
        "L_w = 17\n",
        "\n",
        "yy11_44f = np.zeros(len(yy11_44a))\n",
        "h = np.hanning(L_w)\n",
        "\n",
        "for n in range(len(yy11_44a)-L_w):\n",
        "  yy11_44f[n] =                                 # Compute a weighted average using h\n"
      ],
      "execution_count": null,
      "outputs": []
    },
    {
      "cell_type": "code",
      "metadata": {
        "id": "2ZCMFRyAyq1t"
      },
      "source": [
        "fig = plt.figure(figsize=(12,4))\n",
        "plt.plot(yy11_44f[:500])\n",
        "ipd.Audio(yy11_44f, rate=fs44)"
      ],
      "execution_count": null,
      "outputs": []
    },
    {
      "cell_type": "code",
      "metadata": {
        "id": "OruS1PDexwTi"
      },
      "source": [
        "plt7 = plotSpectrogram(yy11_44f, fs44)"
      ],
      "execution_count": null,
      "outputs": []
    },
    {
      "cell_type": "code",
      "metadata": {
        "id": "mpoKOqdf0sxP"
      },
      "source": [
        "fig, line = setup()\n",
        "anim = animation.FuncAnimation(fig, animate, init_func=init, frames=120, fargs=(yy11_44f,), interval=1000/30, blit=True)\n",
        "anim"
      ],
      "execution_count": null,
      "outputs": []
    },
    {
      "cell_type": "markdown",
      "metadata": {
        "id": "oaF0RX7WgU7C"
      },
      "source": [
        "# What does the weighted moving average do to frequency?"
      ]
    },
    {
      "cell_type": "code",
      "metadata": {
        "id": "Hd0pY3XqzE21"
      },
      "source": [
        "H = \n",
        "\n",
        "fig = plt.figure(figsize=(16,4))\n",
        "f2 = np.arange(1024) * fs / 1024\n",
        "plt.plot(f2,20*np.log10(np.abs(H)))\n",
        "plt.xlim(0,15000)\n",
        "plt.ylim(-40,40)"
      ],
      "execution_count": null,
      "outputs": []
    },
    {
      "cell_type": "markdown",
      "metadata": {
        "id": "pgI2R_AUTKfJ"
      },
      "source": [
        "##*Running*, weighted average of all past samples"
      ]
    },
    {
      "cell_type": "code",
      "metadata": {
        "id": "O6JVhZUyTSZ0"
      },
      "source": [
        "x = yy11_44a # Start with our sample-and-hold signal\n",
        "y = np.zeros(len(x))\n",
        "\n",
        "run_sum = 0\n",
        "\n",
        "for n in range(500):\n",
        "  sum = 0\n",
        "  for m in range(n):\n",
        "    sum += 0.7**(n-m+1) * x[m]\n",
        "\n",
        "  y[n] = 0.3*x[n] + sum"
      ],
      "execution_count": null,
      "outputs": []
    },
    {
      "cell_type": "code",
      "metadata": {
        "id": "Dvj-rlWvV1fi"
      },
      "source": [
        "fig = plt.figure(figsize=(12,4))\n",
        "plt.plot(y[:500])"
      ],
      "execution_count": null,
      "outputs": []
    },
    {
      "cell_type": "markdown",
      "metadata": {
        "id": "10C3Fq72geik"
      },
      "source": [
        "## There's gotta be a better way to do this..."
      ]
    },
    {
      "cell_type": "code",
      "metadata": {
        "id": "XRofqMDvXmVn"
      },
      "source": [
        "y2 = np.zeros(len(x))\n",
        "\n",
        "for n in range(1,len(x)):\n",
        "  y2[n] = "
      ],
      "execution_count": null,
      "outputs": []
    },
    {
      "cell_type": "code",
      "metadata": {
        "id": "pkxB9p_1Yg80"
      },
      "source": [
        "fig = plt.figure(figsize=(12,4))\n",
        "plt.plot(y2[:500])\n",
        "ipd.Audio(y2,rate=fs44)"
      ],
      "execution_count": null,
      "outputs": []
    },
    {
      "cell_type": "code",
      "metadata": {
        "id": "MS7sJOzAaQu3"
      },
      "source": [
        "plotSpectrogram(y2,fs44)"
      ],
      "execution_count": null,
      "outputs": []
    },
    {
      "cell_type": "markdown",
      "metadata": {
        "id": "zMjEWxOPgqFb"
      },
      "source": [
        "## Can we take it further?"
      ]
    },
    {
      "cell_type": "code",
      "metadata": {
        "id": "BJtwJYy0aYUu"
      },
      "source": [
        "y3 = np.zeros(len(x))\n",
        "\n",
        "for n in range(2,len(x)):\n",
        "  y3[n] = "
      ],
      "execution_count": null,
      "outputs": []
    },
    {
      "cell_type": "code",
      "metadata": {
        "id": "XTWTngmyaj2r"
      },
      "source": [
        "fig = plt.figure(figsize=(12,4))\n",
        "plt.plot(y3[:500])\n",
        "ipd.Audio(y3,rate=fs44)"
      ],
      "execution_count": null,
      "outputs": []
    },
    {
      "cell_type": "code",
      "metadata": {
        "id": "RpxXxNlGa2VI"
      },
      "source": [
        "plotSpectrogram(y3,fs44)"
      ],
      "execution_count": null,
      "outputs": []
    },
    {
      "cell_type": "code",
      "metadata": {
        "id": "9V8Lnr33bCt9"
      },
      "source": [
        "fig, line = setup()\n",
        "anim = animation.FuncAnimation(fig, animate, init_func=init, frames=120, fargs=(y3,), interval=1000/30, blit=True)\n",
        "anim"
      ],
      "execution_count": null,
      "outputs": []
    }
  ]
}